{
  "metadata": {
    "language_info": {
      "codemirror_mode": {
        "name": "python",
        "version": 3
      },
      "file_extension": ".py",
      "mimetype": "text/x-python",
      "name": "python",
      "nbconvert_exporter": "python",
      "pygments_lexer": "ipython3",
      "version": "3.8"
    },
    "kernelspec": {
      "name": "python",
      "display_name": "Pyolite",
      "language": "python"
    }
  },
  "nbformat_minor": 4,
  "nbformat": 4,
  "cells": [
    {
      "cell_type": "markdown",
      "source": "# My Jupyter Notebook on IBM Watson Studio",
      "metadata": {}
    },
    {
      "cell_type": "markdown",
      "source": "<b> Abdul Majeed </b>",
      "metadata": {}
    },
    {
      "cell_type": "markdown",
      "source": "<i> I'm interested in Data Science as I want to process countless rows of data into meaningful insights. I deal with lots of data on a regular basis, I want to be more proficient and quicker in processing the data. </i>",
      "metadata": {}
    },
    {
      "cell_type": "markdown",
      "source": "### The following code will perform addition and will show the result",
      "metadata": {}
    },
    {
      "cell_type": "code",
      "source": "x = 1 + 1\nprint (x)",
      "metadata": {
        "trusted": true
      },
      "execution_count": 4,
      "outputs": [
        {
          "name": "stdout",
          "text": "2\n",
          "output_type": "stream"
        }
      ]
    },
    {
      "cell_type": "markdown",
      "source": "---",
      "metadata": {}
    },
    {
      "cell_type": "markdown",
      "source": ">This is a blocked quote",
      "metadata": {}
    },
    {
      "cell_type": "markdown",
      "source": "* Apples\n* Oranges\n* Bananas",
      "metadata": {}
    },
    {
      "cell_type": "markdown",
      "source": "`x=2`",
      "metadata": {}
    },
    {
      "cell_type": "code",
      "source": "",
      "metadata": {},
      "execution_count": null,
      "outputs": []
    }
  ]
}